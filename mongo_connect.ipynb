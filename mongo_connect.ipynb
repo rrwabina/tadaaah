{
 "cells": [
  {
   "cell_type": "code",
   "execution_count": 2,
   "metadata": {},
   "outputs": [],
   "source": [
    "import pymongo\n",
    "import urllib.parse"
   ]
  },
  {
   "cell_type": "code",
   "execution_count": 3,
   "metadata": {},
   "outputs": [
    {
     "name": "stdout",
     "output_type": "stream",
     "text": [
      "[+] Database connected!\n",
      "[+] [+] The database exists.\n",
      "[+] [+] [+] The collection exists.\n"
     ]
    }
   ],
   "source": [
    "DATABASE_NAME = 'masterdb'\n",
    "DATABASE_HOST = 'mongodb+srv://cluster0.pcwzz1a.mongodb.net/'\n",
    "\n",
    "DATABASE_USERNAME = 'rrwabina'\n",
    "DATABASE_PASSWORD = 'Carpediem13'\n",
    "\n",
    "try:\n",
    "    client = pymongo.MongoClient(DATABASE_HOST, username = DATABASE_USERNAME, password = DATABASE_PASSWORD)\n",
    "    masterdb = client[DATABASE_NAME]\n",
    "\n",
    "    print(\"[+] Database connected!\")\n",
    "    dblist = client.list_database_names()\n",
    "    if 'admin' in dblist:\n",
    "        print(\"[+] [+] The database exists.\")\n",
    "\n",
    "    collection = masterdb['master']\n",
    "    collist = masterdb.list_collection_names()\n",
    "\n",
    "    if 'master' in collist:\n",
    "        print(\"[+] [+] [+] The collection exists.\")\n",
    "except Exception as e:\n",
    "    print(\"[+] Database connection error!\")\n",
    "    raise e"
   ]
  },
  {
   "cell_type": "code",
   "execution_count": 4,
   "metadata": {},
   "outputs": [],
   "source": [
    "import json\n",
    "from flask import request\n",
    "from flask import Flask, render_template\n",
    "\n",
    "app = Flask(__name__)\n",
    "\n",
    "@app.route('/')\n",
    "def index():\n",
    "    return render_template('popup.html')\n",
    "\n",
    "@app.route('/test', methods=['POST'])\n",
    "def test():\n",
    "    output = request.get_json()\n",
    "    print(output) # This is the output that was stored in the JSON within the browser\n",
    "    print(type(output))\n",
    "    result = json.loads(output) #this converts the json output to a python dictionary\n",
    "    print(result) # Printing the new dictionary\n",
    "    print(type(result))#this shows the json converted as a python dictionary\n",
    "    return result"
   ]
  }
 ],
 "metadata": {
  "kernelspec": {
   "display_name": "Python 3.9.2 64-bit",
   "language": "python",
   "name": "python3"
  },
  "language_info": {
   "codemirror_mode": {
    "name": "ipython",
    "version": 3
   },
   "file_extension": ".py",
   "mimetype": "text/x-python",
   "name": "python",
   "nbconvert_exporter": "python",
   "pygments_lexer": "ipython3",
   "version": "3.9.2"
  },
  "orig_nbformat": 4,
  "vscode": {
   "interpreter": {
    "hash": "c6a2dc670f3436433c0efae6fb324965c1072d8aef0b90287abce79ee9328779"
   }
  }
 },
 "nbformat": 4,
 "nbformat_minor": 2
}
