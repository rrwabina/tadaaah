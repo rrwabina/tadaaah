{
 "cells": [
  {
   "cell_type": "code",
   "execution_count": 63,
   "metadata": {},
   "outputs": [],
   "source": [
    "import pymongo\n",
    "import urllib.parse"
   ]
  },
  {
   "cell_type": "code",
   "execution_count": 86,
   "metadata": {},
   "outputs": [
    {
     "name": "stdout",
     "output_type": "stream",
     "text": [
      "[+] Database connected!\n",
      "[+] [+] The database exists.\n",
      "[+] [+] [+] The collection exists.\n"
     ]
    }
   ],
   "source": [
    "DATABASE_NAME = 'masterdb'\n",
    "DATABASE_HOST = 'mongodb+srv://cluster0.pcwzz1a.mongodb.net/'\n",
    "\n",
    "DATABASE_USERNAME = 'rrwabina'\n",
    "DATABASE_PASSWORD = 'Carpediem13'\n",
    "\n",
    "try:\n",
    "    client = pymongo.MongoClient(DATABASE_HOST, username = DATABASE_USERNAME, password = DATABASE_PASSWORD)\n",
    "    masterdb = client[DATABASE_NAME]\n",
    "\n",
    "    print(\"[+] Database connected!\")\n",
    "    dblist = client.list_database_names()\n",
    "    if 'admin' in dblist:\n",
    "        print(\"[+] [+] The database exists.\")\n",
    "\n",
    "    collection = masterdb['master']\n",
    "    collist = masterdb.list_collection_names()\n",
    "\n",
    "    if 'master' in collist:\n",
    "        print(\"[+] [+] [+] The collection exists.\")\n",
    "except Exception as e:\n",
    "    print(\"[+] Database connection error!\")\n",
    "    raise e"
   ]
  },
  {
   "cell_type": "code",
   "execution_count": null,
   "metadata": {},
   "outputs": [],
   "source": []
  }
 ],
 "metadata": {
  "kernelspec": {
   "display_name": "Python 3.9.2 64-bit",
   "language": "python",
   "name": "python3"
  },
  "language_info": {
   "codemirror_mode": {
    "name": "ipython",
    "version": 3
   },
   "file_extension": ".py",
   "mimetype": "text/x-python",
   "name": "python",
   "nbconvert_exporter": "python",
   "pygments_lexer": "ipython3",
   "version": "3.9.2"
  },
  "orig_nbformat": 4,
  "vscode": {
   "interpreter": {
    "hash": "c6a2dc670f3436433c0efae6fb324965c1072d8aef0b90287abce79ee9328779"
   }
  }
 },
 "nbformat": 4,
 "nbformat_minor": 2
}
